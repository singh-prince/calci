{
 "cells": [
  {
   "cell_type": "code",
   "execution_count": 37,
   "metadata": {},
   "outputs": [],
   "source": [
    "from tkinter import *     #python program to make a simple calci                          \n",
    "expression = \"\"           #importing everything from tkinter module\n",
    "                        #globally declare the expression variable \n",
    "    "
   ]
  },
  {
   "cell_type": "code",
   "execution_count": 38,
   "metadata": {},
   "outputs": [],
   "source": [
    "def press(num):               #function  to update expression in the text entry box \n",
    "    global expression         #point out the global expression variable\n",
    "    expression += str(num)     #concatenation of the string\n",
    "    equation.set(expression)   #update the expression by using the set methods\n",
    "    "
   ]
  },
  {
   "cell_type": "code",
   "execution_count": 39,
   "metadata": {},
   "outputs": [],
   "source": [
    "def equalpress():  #function to evaluate the final expression \n",
    "    try:   #put the code in side the try metod to evaluate the error  \n",
    "        global expression                    #try and except method is used to to error like division error handing \n",
    "        total =str(eval(expression))         #str function convert the result in to the string \n",
    "        equation.set(total)  \n",
    "        expression = \"\"                       #initalised the expression value by by the empty method \n",
    "        \n",
    "    except:\n",
    "        equation.set(\"error\")     "
   ]
  },
  {
   "cell_type": "code",
   "execution_count": 40,
   "metadata": {},
   "outputs": [],
   "source": [
    "  #function to clear the content of text entry box \n",
    "def clear():\n",
    "    global expression \n",
    "    expression = \"\"\n",
    "    expression.set(\"\")"
   ]
  },
  {
   "cell_type": "code",
   "execution_count": null,
   "metadata": {},
   "outputs": [],
   "source": [
    "#driver code \n",
    "if __name__ == \"__main__\":\n",
    "    gui = Tk()    #create a GUI Window\n",
    "    gui.configure(background =\"light green\")  # set back ground color of gui window \n",
    "    gui.title(\"calculator\") #set title of of GUI Window \n",
    "    gui.geometry(\"270x150\") #set the configuration of gui window \n",
    "    \n",
    "    equation = StringVar() #StringVar() is the variable class ,we create instance of this class\n",
    "    \n",
    "    expression_field = Entry(gui,textvariable = equation)   #create the text entry box for showing the expression \n",
    "    expression_field.grid(columnspan = 4,ipadx=70)   #grid method is used for the placing the widget at the respective places in the table like structure .   \n",
    "    #create a buttons and place at a particular position \n",
    "    #inside the root window,\n",
    "    #when the user press the button ,the command and the function affiliated to that the button is executed .\n",
    "    button1 = Button(gui,text = \"1\",fg = \"black\",bg = \"red\",command=lambda:press(1),height =1,width = 7)\n",
    "    button1.grid(row =2, column = 0)\n",
    "    button2 = Button(gui,text = \"2\",fg =\"black\",bg = \"red\",command = lambda:press(2),height = 1, width =7)\n",
    "    button2.grid(row =2, column =1)\n",
    "    button3 = Button(gui,text =\"3\",fg =\"black\",bg =\"red\",command= lambda:press(3),height = 1 ,width =7)\n",
    "    button3.grid(row = 2 ,column =2)\n",
    "    button4 = Button(gui,text =\"4\",fg =\"black\",bg =\"red\",command= lambda:press(4),height = 1 ,width =7)\n",
    "    button4.grid(row = 3 ,column =0)\n",
    "    button5 = Button(gui,text =\"5\",fg =\"black\",bg =\"red\",command= lambda:press(5),height = 1 ,width =7)\n",
    "    button5.grid(row = 3 ,column =1)\n",
    "    button6 = Button(gui,text =\"6\",fg =\"black\",bg =\"red\",command= lambda:press(6),height = 1 ,width =7)\n",
    "    button6.grid(row = 3 ,column =2)\n",
    "    button7 = Button(gui,text =\"7\",fg =\"black\",bg =\"red\",command= lambda:press(7),height = 1 ,width =7)\n",
    "    button7.grid(row = 4 ,column =0)\n",
    "    button8 = Button(gui,text =\"8\",fg =\"black\",bg =\"red\",command= lambda:press(8),height = 1 ,width =7)\n",
    "    button8.grid(row = 4 ,column =1)\n",
    "    button9 = Button(gui,text =\"9\",fg =\"black\",bg =\"red\",command= lambda:press(9),height = 1 ,width =7)\n",
    "    button9.grid(row = 4 ,column =2)\n",
    "    button0 = Button(gui,text =\"0\",fg =\"black\",bg =\"red\",command= lambda:press(0),height = 1 ,width =7)\n",
    "    button0.grid(row = 5 ,column =0)\n",
    "    plus = Button(gui,text =\"+\",fg =\"black\",bg =\"red\",command= lambda:press(\"+\"),height = 1 ,width =7)\n",
    "    plus.grid(row = 2 ,column =3)\n",
    "    minus = Button(gui,text =\"-\",fg =\"black\",bg =\"red\",command= lambda:press(\"-\"),height = 1 ,width =7)\n",
    "    minus.grid(row = 3 ,column =3)\n",
    "    multiply = Button(gui,text =\"*\",fg =\"black\",bg =\"red\",command= lambda:press(\"*\"),height = 1 ,width =7)\n",
    "    multiply.grid(row = 4 ,column =3)\n",
    "    divide = Button(gui,text =\"/\",fg =\"black\",bg =\"red\",command= lambda:press(\"/\"),height = 1 ,width =7)\n",
    "    divide.grid(row = 5 ,column =3)\n",
    "    equal = Button(gui,text =\"=\",fg =\"black\",bg =\"red\",command= lambda:press(\"=\"),height = 1,width =7)\n",
    "    equal.grid(row = 5 ,column =2)\n",
    "    clear = Button(gui,text =\"clear\",fg =\"black\",bg =\"red\",command= lambda:press(\"clear\"),height = 1,width =7)\n",
    "    clear.grid(row = 5 ,column =1)\n",
    "    decimal = Button(gui,text =\".\",fg =\"black\",bg =\"red\",command= lambda:press(\".\"),height = 1 ,width =7)\n",
    "    decimal.grid(row = 6 ,column =0)\n",
    "    \n",
    "    #start the gui \n",
    "    gui.mainloop()\n",
    "    \n",
    "        \n",
    "        "
   ]
  },
  {
   "cell_type": "code",
   "execution_count": null,
   "metadata": {},
   "outputs": [],
   "source": []
  },
  {
   "cell_type": "code",
   "execution_count": null,
   "metadata": {},
   "outputs": [],
   "source": []
  }
 ],
 "metadata": {
  "kernelspec": {
   "display_name": "Python 3",
   "language": "python",
   "name": "python3"
  },
  "language_info": {
   "codemirror_mode": {
    "name": "ipython",
    "version": 3
   },
   "file_extension": ".py",
   "mimetype": "text/x-python",
   "name": "python",
   "nbconvert_exporter": "python",
   "pygments_lexer": "ipython3",
   "version": "3.8.5"
  }
 },
 "nbformat": 4,
 "nbformat_minor": 4
}
